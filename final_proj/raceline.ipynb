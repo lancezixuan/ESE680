{
 "cells": [
  {
   "cell_type": "code",
   "execution_count": 1,
   "metadata": {},
   "outputs": [],
   "source": [
    "import sys\n",
    "sys.path.remove('/opt/ros/kinetic/lib/python2.7/dist-packages')\n",
    "# import cv2"
   ]
  },
  {
   "cell_type": "code",
   "execution_count": 2,
   "metadata": {},
   "outputs": [
    {
     "name": "stdout",
     "output_type": "stream",
     "text": [
      "['/home/lance/ese680/final_proj', '', '/home/lance/zixuan_lan_ws/devel/lib/python3/dist-packages', '/home/lance/catkin_ws/devel/lib/python3/dist-packages', '/home/lance/catkin_ws/devel/lib/python2.7/dist-packages', '/home/lance/pyckbot/py', '/home/lance/anaconda3/lib/python37.zip', '/home/lance/anaconda3/lib/python3.7', '/home/lance/anaconda3/lib/python3.7/lib-dynload', '/home/lance/anaconda3/lib/python3.7/site-packages', '/home/lance/anaconda3/lib/python3.7/site-packages/IPython/extensions', '/home/lance/.ipython']\n"
     ]
    }
   ],
   "source": [
    "print(sys.path)"
   ]
  },
  {
   "cell_type": "code",
   "execution_count": 3,
   "metadata": {},
   "outputs": [],
   "source": [
    "import cv2"
   ]
  },
  {
   "cell_type": "code",
   "execution_count": 57,
   "metadata": {},
   "outputs": [],
   "source": [
    "img=cv2.imread('columbia_tuned.pgm',0)"
   ]
  },
  {
   "cell_type": "code",
   "execution_count": 58,
   "metadata": {},
   "outputs": [
    {
     "data": {
      "text/plain": [
       "<matplotlib.image.AxesImage at 0x7f20e1ced450>"
      ]
     },
     "execution_count": 58,
     "metadata": {},
     "output_type": "execute_result"
    },
    {
     "data": {
      "image/png": "[encoded data removed]",
      "text/plain": [
       "<Figure size 432x288 with 1 Axes>"
      ]
     },
     "metadata": {
      "needs_background": "light"
     },
     "output_type": "display_data"
    }
   ],
   "source": [
    "# show img\n",
    "# cv2.imshow('image',img)\n",
    "# cv2.waitKey(0)\n",
    "# cv2.destroyAllWindows()\n",
    "import numpy as np\n",
    "from matplotlib import pyplot as plt\n",
    "%matplotlib inline\n",
    "plt.imshow(img,cmap='gray')"
   ]
  },
  {
   "cell_type": "code",
   "execution_count": 161,
   "metadata": {},
   "outputs": [
    {
     "data": {
      "image/png": "[encoded data removed]",
      "text/plain": [
       "<Figure size 432x288 with 1 Axes>"
      ]
     },
     "metadata": {},
     "output_type": "display_data"
    }
   ],
   "source": [
    "import cv2\n",
    "import numpy as np\n",
    "from matplotlib import pyplot as plt\n",
    "%matplotlib inline\n",
    "\n",
    "edges = cv2.Canny(img,100,200)\n",
    "\n",
    "# plt.subplot(121),plt.imshow(img,cmap = 'gray')\n",
    "# plt.title('Original Image'), plt.xticks([]), plt.yticks([])\n",
    "# plt.subplot(122),plt.imshow(edges,cmap = 'gray')\n",
    "plt.imshow(edges,cmap='gray')\n",
    "plt.title('Edge Image'), plt.xticks([]), plt.yticks([])\n",
    "\n",
    "plt.show()"
   ]
  },
  {
   "cell_type": "code",
   "execution_count": 162,
   "metadata": {},
   "outputs": [
    {
     "data": {
      "text/plain": [
       "(Text(0.5, 1.0, 'Eroded Image'),\n",
       " ([], <a list of 0 Text xticklabel objects>),\n",
       " ([], <a list of 0 Text yticklabel objects>))"
      ]
     },
     "execution_count": 162,
     "metadata": {},
     "output_type": "execute_result"
    },
    {
     "data": {
      "image/png": "[encoded data removed]",
      "text/plain": [
       "<Figure size 432x288 with 2 Axes>"
      ]
     },
     "metadata": {},
     "output_type": "display_data"
    }
   ],
   "source": [
    "# kernel = np.ones((1,20), np.uint8)  # note this is a horizontal kernel\n",
    "kernel = np.ones((3,3), np.uint8) \n",
    "d_im = cv2.dilate(edges, kernel,iterations=1)\n",
    "kernel = np.ones((2,2), np.uint8) \n",
    "e_im = cv2.erode(d_im, kernel, iterations=1) \n",
    "edges = cv2.Canny(e_im,100,200)\n",
    "\n",
    "plt.subplot(121),plt.imshow(d_im,cmap = 'gray')\n",
    "plt.title('Dilated Image'), plt.xticks([]), plt.yticks([])\n",
    "plt.subplot(122),plt.imshow(e_im,cmap = 'gray')\n",
    "plt.title('Eroded Image'), plt.xticks([]), plt.yticks([])\n",
    "\n",
    "# plt.imshow(d_im,cmap='gray')\n",
    "# plt.title('dilated Image'), plt.xticks([]), plt.yticks([])\n",
    "\n",
    "# plt.show()\n",
    "\n",
    "# plt.imshow(d_im,cmap='gray')"
   ]
  },
  {
   "cell_type": "code",
   "execution_count": 153,
   "metadata": {},
   "outputs": [
    {
     "data": {
      "text/plain": [
       "(Text(0.5, 1.0, 'dilated Image'),\n",
       " ([], <a list of 0 Text xticklabel objects>),\n",
       " ([], <a list of 0 Text yticklabel objects>))"
      ]
     },
     "execution_count": 153,
     "metadata": {},
     "output_type": "execute_result"
    },
    {
     "data": {
      "image/png": "[encoded data removed]",
      "text/plain": [
       "<Figure size 432x288 with 1 Axes>"
      ]
     },
     "metadata": {},
     "output_type": "display_data"
    }
   ],
   "source": [
    "plt.imshow(d_im,cmap='gray')\n",
    "plt.title('dilated Image'), plt.xticks([]), plt.yticks([])"
   ]
  },
  {
   "cell_type": "code",
   "execution_count": 163,
   "metadata": {
    "scrolled": true
   },
   "outputs": [
    {
     "data": {
      "text/plain": [
       "<matplotlib.image.AxesImage at 0x7f0673079410>"
      ]
     },
     "execution_count": 163,
     "metadata": {},
     "output_type": "execute_result"
    },
    {
     "data": {
      "image/png": "[encoded data removed]",
      "text/plain": [
       "<Figure size 432x288 with 1 Axes>"
      ]
     },
     "metadata": {
      "needs_background": "light"
     },
     "output_type": "display_data"
    }
   ],
   "source": [
    "plt.imshow(e_im,cmap='gray')\n",
    "# plt.title('Eroded Image'), plt.xticks([]), plt.yticks([])"
   ]
  },
  {
   "cell_type": "code",
   "execution_count": 87,
   "metadata": {},
   "outputs": [
    {
     "data": {
      "text/plain": [
       "'4.1.1'"
      ]
     },
     "execution_count": 87,
     "metadata": {},
     "output_type": "execute_result"
    }
   ],
   "source": []
  },
  {
   "cell_type": "code",
   "execution_count": 7,
   "metadata": {},
   "outputs": [],
   "source": [
    "# # find contours\n",
    "# import cv2\n",
    "# import numpy as np\n",
    "# from matplotlib import pyplot as plt\n",
    "# %matplotlib inline\n",
    "# def thresh_callback(thresh):\n",
    "#     edges = cv2.Canny(blur,thresh,thresh*2)\n",
    "#     drawing = np.zeros(img.shape,np.uint8)     # Image to draw the contours\n",
    "#     contours,hierarchy = cv2.findContours(edges,cv2.RETR_TREE,cv2.CHAIN_APPROX_SIMPLE)\n",
    "#     for cnt in contours:\n",
    "#         color = np.random.randint(0,255,(3)).tolist()  # Select a random color\n",
    "#         cv2.drawContours(drawing,[cnt],0,color,2)\n",
    "#         cv2.imshow('output',drawing)\n",
    "#     cv2.imshow('input',img)\n",
    "#     return contours\n",
    "\n",
    "# img = cv2.imread('columbia_tuned.pgm')\n",
    "# gray = cv2.cvtColor(img,cv2.COLOR_BGR2GRAY)\n",
    "# blur = cv2.GaussianBlur(gray,(5,5),0)\n",
    "\n",
    "# # cv2.namedWindow('input',cv2.WINDOW_AUTOSIZE)\n",
    "\n",
    "# thresh = 100\n",
    "# max_thresh = 255\n",
    "\n",
    "# # cv2.createTrackbar('canny thresh:','input',thresh,max_thresh,thresh_callback)\n",
    "\n",
    "# contours=thresh_callback(thresh)\n",
    "\n",
    "# if cv2.waitKey(0) == 27:\n",
    "#     cv2.destroyAllWindows()"
   ]
  },
  {
   "cell_type": "code",
   "execution_count": 108,
   "metadata": {},
   "outputs": [
    {
     "data": {
      "image/png": "[encoded data removed]",
      "text/plain": [
       "<Figure size 432x288 with 1 Axes>"
      ]
     },
     "metadata": {
      "needs_background": "light"
     },
     "output_type": "display_data"
    }
   ],
   "source": [
    "import numpy as np\n",
    "import cv2 as cv\n",
    "# from __future__ import division\n",
    "import numpy as np\n",
    "import matplotlib.pyplot as plt\n",
    "import scipy.interpolate\n",
    "from matplotlib import pyplot as plt\n",
    "%matplotlib inline\n",
    "\n",
    "im = cv.imread('columbia_tuned.pgm')\n",
    "imgray = cv.cvtColor(im, cv.COLOR_BGR2GRAY)\n",
    "ret, thresh = cv.threshold(imgray, 127, 255, 0)\n",
    "contours, hierarchy = cv.findContours(thresh, cv.RETR_TREE, cv.CHAIN_APPROX_SIMPLE)\n",
    "cv.drawContours(im, contours, -1, (0,0,255), 3)\n",
    "\n",
    "out_cnt=np.asarray(contours[0])\n",
    "out_cnt=np.reshape(out_cnt,(-1,2))\n",
    "out_cnt=np.vstack((out_cnt,out_cnt[0,:]))\n",
    "in_cnt=np.asarray(contours[1])\n",
    "in_cnt=np.reshape(in_cnt,(-1,2))\n",
    "in_cnt=np.vstack((in_cnt,in_cnt[0,:]))\n",
    "\n",
    "\n",
    "x,y=out_cnt[:,0],out_cnt[:,1]\n",
    "plt.plot(x,y, 'ok',label='poly')\n",
    "# plt.axes.Axes.invert_yaxis\n",
    "ax = plt.gca()\n",
    "ax.invert_yaxis()\n",
    "plt.show()\n",
    "\n",
    "\n",
    "# t = np.arange(x.shape[0], dtype=float)\n",
    "# t /= t[-1]\n",
    "# nt = np.linspace(0, 1, 100)\n",
    "# x1 = scipy.interpolate.spline(t, x, nt)\n",
    "# y1 = scipy.interpolate.spline(t, y, nt)\n",
    "# plt.plot(x1, y1, label='range_spline')\n",
    "\n",
    "# t = np.zeros(x.shape)\n",
    "# t[1:] = np.sqrt((x[1:] - x[:-1])**2 + (y[1:] - y[:-1])**2)\n",
    "# t = np.cumsum(t)\n",
    "# t /= t[-1]\n",
    "# x2 = scipy.interpolate.spline(t, x, nt)\n",
    "# y2 = scipy.interpolate.spline(t, y, nt)\n",
    "# plt.plot(x2, y2, label='dist_spline')\n",
    "\n",
    "# plt.legend(loc='best')\n",
    "# plt.show()\n",
    "\n",
    "# # for i in range(len(contours)):\n",
    "# for i in [0,1]:\n",
    "#     cv.drawContours(im, contours, i, (0,0,255), 3)\n",
    "#     cv2.imshow('im',im)\n",
    "#     if cv2.waitKey(0) == 27:\n",
    "#         cv2.destroyAllWindows()\n",
    "        \n"
   ]
  },
  {
   "cell_type": "code",
   "execution_count": null,
   "metadata": {},
   "outputs": [],
   "source": []
  },
  {
   "cell_type": "code",
   "execution_count": 304,
   "metadata": {},
   "outputs": [
    {
     "name": "stdout",
     "output_type": "stream",
     "text": [
      "(1000, 2)\n",
      "(1000, 2)\n",
      "205.0 673 554\n"
     ]
    },
    {
     "data": {
      "image/png": "[encoded data removed]",
      "text/plain": [
       "<Figure size 504x504 with 1 Axes>"
      ]
     },
     "metadata": {
      "needs_background": "light"
     },
     "output_type": "display_data"
    },
    {
     "data": {
      "image/png": "[encoded data removed]",
      "text/plain": [
       "<Figure size 504x504 with 1 Axes>"
      ]
     },
     "metadata": {
      "needs_background": "light"
     },
     "output_type": "display_data"
    }
   ],
   "source": [
    "import numpy as np\n",
    "from scipy.interpolate import interp1d\n",
    "import matplotlib.pyplot as plt\n",
    "from scipy.interpolate import UnivariateSpline\n",
    "import pdb\n",
    "# referecen: https://stackoverflow.com/questions/52014197/how-to-interpolate-a-2d-curve-in-python\n",
    "# interpolate\n",
    "# fit spline\n",
    "def interp_line(points,n):\n",
    "    \n",
    "    # Linear length along the line:\n",
    "    distance = np.cumsum( np.sqrt(np.sum( np.diff(points, axis=0)**2, axis=1 )) )\n",
    "    distance = np.insert(distance, 0, 0)/distance[-1]\n",
    "    alpha = np.linspace(0, 1, n)\n",
    "    interpolated_points = {}\n",
    "#     method='cubic'\n",
    "#     method='quadratic'\n",
    "    method='slinear'\n",
    "    interpolator =  interp1d(distance, points, kind=method, axis=0)\n",
    "    interpolated_points['method'] = interpolator(alpha)\n",
    "    plt.figure(figsize=(7,7))\n",
    "    for method_name, curve in interpolated_points.items():\n",
    "        plt.plot(*curve.T, 'or', label=method_name);\n",
    "    print(curve.shape)\n",
    "#     plt.plot(*points.T, 'ok', label='original points');\n",
    "    plt.axis('equal'); plt.legend(); plt.xlabel('x'); plt.ylabel('y');\n",
    "    ax = plt.gca()\n",
    "    ax.invert_yaxis()\n",
    "    return curve\n",
    "    \n",
    "\n",
    "def fit_spline(points,n):\n",
    "\n",
    "    distance = np.cumsum( np.sqrt(np.sum( np.diff(points, axis=0)**2, axis=1 )) )\n",
    "    distance = np.insert(distance, 0, 0)/distance[-1]\n",
    "\n",
    "    # Build a list of the spline function, one for each dimension:\n",
    "    splines = [UnivariateSpline(distance, coords, k=3, s=.2) for coords in points.T]\n",
    "\n",
    "    # Computed the spline for the asked distances:\n",
    "#     alpha = np.linspace(0, 1, n)\n",
    "    alpha=np.arange(0,n,1)\n",
    "    points_fitted = np.vstack( spl(alpha) for spl in splines ).T\n",
    "    # Graph:\n",
    "    plt.plot(*points.T, 'ok', label='original points');\n",
    "    plt.plot(*points_fitted.T, '-r', label='fitted spline k=3, s=.2');\n",
    "    plt.axis('equal'); plt.legend(); plt.xlabel('x'); plt.ylabel('y');\n",
    "    ax = plt.gca()\n",
    "    ax.invert_yaxis()\n",
    "    return points_fitted\n",
    "\n",
    "n=1000\n",
    "points_in = interp_line(in_cnt,n)\n",
    "points_out = interp_line(out_cnt,n)\n",
    "points_in=np.flip(points_in,0)\n",
    "\n",
    "\n",
    "intersect_pts,ids_in,ids_out=np.intersect1d(points_in[:,0], points_out[:,0],return_indices=True)\n",
    "for i in range(len(intersect_pts)):\n",
    "    id_in=ids_in[i]\n",
    "    id_out=ids_out[i]\n",
    "    intersect_pt=intersect_pts[i]\n",
    "    if np.abs(points_in[id_in,1]-points_out[id_out,1])<50:\n",
    "        break\n",
    "\n",
    "# id_in,id_out=ids_in[0],ids_out[0]\n",
    "# intersect_pt=intersect_pts[0]\n",
    "\n",
    "print(intersect_pt,id_in,id_out)\n",
    "id_in,id_out=int(id_in),int(id_out)\n",
    "new_in=np.vstack((points_in[id_in:,:],points_in[:id_in,:]))\n",
    "new_out=np.vstack((points_out[id_out:,:],points_out[:id_out,:]))\n",
    "weight=0.4\n",
    "raceline=weight*new_in + (1-weight)*new_out\n"
   ]
  },
  {
   "cell_type": "code",
   "execution_count": 315,
   "metadata": {},
   "outputs": [
    {
     "ename": "TypeError",
     "evalue": "Expected Ptr<cv::UMat> for argument '%s'",
     "output_type": "error",
     "traceback": [
      "\u001b[0;31m---------------------------------------------------------------------------\u001b[0m",
      "\u001b[0;31mTypeError\u001b[0m                                 Traceback (most recent call last)",
      "\u001b[0;32m<ipython-input-315-319f2ffda631>\u001b[0m in \u001b[0;36m<module>\u001b[0;34m\u001b[0m\n\u001b[0;32m----> 1\u001b[0;31m \u001b[0mcv\u001b[0m\u001b[0;34m.\u001b[0m\u001b[0marcLength\u001b[0m\u001b[0;34m(\u001b[0m\u001b[0mlist\u001b[0m\u001b[0;34m(\u001b[0m\u001b[0mout_cnt\u001b[0m\u001b[0;34m)\u001b[0m\u001b[0;34m,\u001b[0m\u001b[0;32mTrue\u001b[0m\u001b[0;34m)\u001b[0m\u001b[0;34m\u001b[0m\u001b[0;34m\u001b[0m\u001b[0m\n\u001b[0m",
      "\u001b[0;31mTypeError\u001b[0m: Expected Ptr<cv::UMat> for argument '%s'"
     ]
    }
   ],
   "source": [
    "cv.arcLength(list(out_cnt),True)"
   ]
  },
  {
   "cell_type": "code",
   "execution_count": 327,
   "metadata": {},
   "outputs": [
    {
     "data": {
      "image/png": "[encoded data removed]",
      "text/plain": [
       "<Figure size 432x288 with 1 Axes>"
      ]
     },
     "metadata": {
      "needs_background": "light"
     },
     "output_type": "display_data"
    }
   ],
   "source": [
    "# # points_in=np.flip(points_in,0)\n",
    "# intersect_pt,id_in,id_out=np.intersect1d(points_in[:,0], points_out[:,0],return_indices=True)\n",
    "# print(intersect_pt,id_in,id_out)\n",
    "# # print(points_in[points_in[:,0]==280,:])\n",
    "# id_in,id_out=int(id_in),int(id_out)\n",
    "# k=5\n",
    "# print(points_in[id_in:id_in+k,:])\n",
    "# print(points_out[id_out:id_out+k,:])\n",
    "\n",
    "# new_in=np.vstack((points_in[id_in:,:],points_in[:id_in,:]))\n",
    "# new_out=np.vstack((points_out[id_out:,:],points_in[:id_out,:]))\n",
    "# raceline=1/2*(new_in + new_out)\n",
    "\n",
    "# k=5\n",
    "# # plt.plot(*points_in[89:89+5,:].T, 'ob',label='cnt_in')\n",
    "# # plt.plot(*points_out[0:5,:].T, 'og',label='cnt_out')a=100\n",
    "\n",
    "\n",
    "raceline_hull=cv.convexHull(np.reshape(raceline,(-1,1,2)).astype(int))\n",
    "raceline_hull=np.reshape(raceline_hull,(-1,2))\n",
    "# plot all lines\n",
    "a=0\n",
    "b=n\n",
    "\n",
    "plt.plot(*new_in[a:b,:].T, 'ob',label='cnt_in')\n",
    "plt.plot(*new_out[a:b,:].T, 'og',label='cnt_out')\n",
    "plt.plot(*raceline[a:b,:].T, 'ok',label='raceline')\n",
    "# plt.plot(*raceline_hull[a:b,:].T, 'xr',label='raceline')\n",
    "\n",
    "# plt.plot(*new_in.T, 'ob',label='cnt_in')\n",
    "# plt.plot(*new_out.T, 'og',label='cnt_out')\n",
    "# plt.plot(*raceline.T, 'ok',label='raceline')\n",
    "plt.axis('equal'); plt.legend(); plt.xlabel('x'); plt.ylabel('y');\n",
    "ax = plt.gca()\n",
    "ax.invert_yaxis()"
   ]
  },
  {
   "cell_type": "code",
   "execution_count": 328,
   "metadata": {},
   "outputs": [],
   "source": [
    "# a=np.reshape(raceline,(-1,1,2)).astype(int)\n",
    "# b=cv.convexHull(a)\n",
    "# print(b)"
   ]
  },
  {
   "cell_type": "code",
   "execution_count": 20,
   "metadata": {},
   "outputs": [],
   "source": [
    "import numpy as np\n",
    "import cv2 as cv\n",
    "from matplotlib import pyplot as plt\n",
    "%matplotlib inline\n",
    "im = cv.imread('columbia_tuned_handdraw.pgm')\n",
    "imgray = cv.cvtColor(im, cv.COLOR_BGR2GRAY)\n",
    "ret, thresh = cv.threshold(imgray, 127, 255, 0)\n",
    "contours, hierarchy = cv.findContours(thresh, cv.RETR_TREE, cv.CHAIN_APPROX_SIMPLE)\n",
    "cv.drawContours(im, contours, 1, (0,0,255), 3)\n",
    "\n",
    "# out_cnt=contours[0]\n",
    "# in_cnt=contours=[1]\n",
    "\n",
    "# # for i in range(len(contours)):\n",
    "for i in [0]:\n",
    "    cv.drawContours(im, contours, i, (0,0,255), 3)\n",
    "    cv2.imshow('im',im)\n",
    "    if cv2.waitKey(0) == 27:\n",
    "        cv2.destroyAllWindows()"
   ]
  },
  {
   "cell_type": "code",
   "execution_count": 167,
   "metadata": {},
   "outputs": [
    {
     "ename": "ValueError",
     "evalue": "A value in x_new is above the interpolation range.",
     "output_type": "error",
     "traceback": [
      "\u001b[0;31m---------------------------------------------------------------------------\u001b[0m",
      "\u001b[0;31mValueError\u001b[0m                                Traceback (most recent call last)",
      "\u001b[0;32m<ipython-input-167-3c773cd7274a>\u001b[0m in \u001b[0;36m<module>\u001b[0;34m\u001b[0m\n\u001b[1;32m      7\u001b[0m \u001b[0mmethod\u001b[0m\u001b[0;34m=\u001b[0m\u001b[0;34m'slinear'\u001b[0m\u001b[0;34m\u001b[0m\u001b[0;34m\u001b[0m\u001b[0m\n\u001b[1;32m      8\u001b[0m \u001b[0minterpolator\u001b[0m \u001b[0;34m=\u001b[0m  \u001b[0minterp1d\u001b[0m\u001b[0;34m(\u001b[0m\u001b[0mdistance\u001b[0m\u001b[0;34m,\u001b[0m \u001b[0mpoints\u001b[0m\u001b[0;34m,\u001b[0m \u001b[0mkind\u001b[0m\u001b[0;34m=\u001b[0m\u001b[0mmethod\u001b[0m\u001b[0;34m,\u001b[0m \u001b[0maxis\u001b[0m\u001b[0;34m=\u001b[0m\u001b[0;36m0\u001b[0m\u001b[0;34m)\u001b[0m\u001b[0;34m\u001b[0m\u001b[0;34m\u001b[0m\u001b[0m\n\u001b[0;32m----> 9\u001b[0;31m \u001b[0minterpolated_points\u001b[0m\u001b[0;34m[\u001b[0m\u001b[0;34m'method'\u001b[0m\u001b[0;34m]\u001b[0m \u001b[0;34m=\u001b[0m \u001b[0minterpolator\u001b[0m\u001b[0;34m(\u001b[0m\u001b[0malpha\u001b[0m\u001b[0;34m)\u001b[0m\u001b[0;34m\u001b[0m\u001b[0;34m\u001b[0m\u001b[0m\n\u001b[0m",
      "\u001b[0;32m~/anaconda3/lib/python3.7/site-packages/scipy/interpolate/polyint.py\u001b[0m in \u001b[0;36m__call__\u001b[0;34m(self, x)\u001b[0m\n\u001b[1;32m     77\u001b[0m         \"\"\"\n\u001b[1;32m     78\u001b[0m         \u001b[0mx\u001b[0m\u001b[0;34m,\u001b[0m \u001b[0mx_shape\u001b[0m \u001b[0;34m=\u001b[0m \u001b[0mself\u001b[0m\u001b[0;34m.\u001b[0m\u001b[0m_prepare_x\u001b[0m\u001b[0;34m(\u001b[0m\u001b[0mx\u001b[0m\u001b[0;34m)\u001b[0m\u001b[0;34m\u001b[0m\u001b[0;34m\u001b[0m\u001b[0m\n\u001b[0;32m---> 79\u001b[0;31m         \u001b[0my\u001b[0m \u001b[0;34m=\u001b[0m \u001b[0mself\u001b[0m\u001b[0;34m.\u001b[0m\u001b[0m_evaluate\u001b[0m\u001b[0;34m(\u001b[0m\u001b[0mx\u001b[0m\u001b[0;34m)\u001b[0m\u001b[0;34m\u001b[0m\u001b[0;34m\u001b[0m\u001b[0m\n\u001b[0m\u001b[1;32m     80\u001b[0m         \u001b[0;32mreturn\u001b[0m \u001b[0mself\u001b[0m\u001b[0;34m.\u001b[0m\u001b[0m_finish_y\u001b[0m\u001b[0;34m(\u001b[0m\u001b[0my\u001b[0m\u001b[0;34m,\u001b[0m \u001b[0mx_shape\u001b[0m\u001b[0;34m)\u001b[0m\u001b[0;34m\u001b[0m\u001b[0;34m\u001b[0m\u001b[0m\n\u001b[1;32m     81\u001b[0m \u001b[0;34m\u001b[0m\u001b[0m\n",
      "\u001b[0;32m~/anaconda3/lib/python3.7/site-packages/scipy/interpolate/interpolate.py\u001b[0m in \u001b[0;36m_evaluate\u001b[0;34m(self, x_new)\u001b[0m\n\u001b[1;32m    661\u001b[0m         \u001b[0my_new\u001b[0m \u001b[0;34m=\u001b[0m \u001b[0mself\u001b[0m\u001b[0;34m.\u001b[0m\u001b[0m_call\u001b[0m\u001b[0;34m(\u001b[0m\u001b[0mself\u001b[0m\u001b[0;34m,\u001b[0m \u001b[0mx_new\u001b[0m\u001b[0;34m)\u001b[0m\u001b[0;34m\u001b[0m\u001b[0;34m\u001b[0m\u001b[0m\n\u001b[1;32m    662\u001b[0m         \u001b[0;32mif\u001b[0m \u001b[0;32mnot\u001b[0m \u001b[0mself\u001b[0m\u001b[0;34m.\u001b[0m\u001b[0m_extrapolate\u001b[0m\u001b[0;34m:\u001b[0m\u001b[0;34m\u001b[0m\u001b[0;34m\u001b[0m\u001b[0m\n\u001b[0;32m--> 663\u001b[0;31m             \u001b[0mbelow_bounds\u001b[0m\u001b[0;34m,\u001b[0m \u001b[0mabove_bounds\u001b[0m \u001b[0;34m=\u001b[0m \u001b[0mself\u001b[0m\u001b[0;34m.\u001b[0m\u001b[0m_check_bounds\u001b[0m\u001b[0;34m(\u001b[0m\u001b[0mx_new\u001b[0m\u001b[0;34m)\u001b[0m\u001b[0;34m\u001b[0m\u001b[0;34m\u001b[0m\u001b[0m\n\u001b[0m\u001b[1;32m    664\u001b[0m             \u001b[0;32mif\u001b[0m \u001b[0mlen\u001b[0m\u001b[0;34m(\u001b[0m\u001b[0my_new\u001b[0m\u001b[0;34m)\u001b[0m \u001b[0;34m>\u001b[0m \u001b[0;36m0\u001b[0m\u001b[0;34m:\u001b[0m\u001b[0;34m\u001b[0m\u001b[0;34m\u001b[0m\u001b[0m\n\u001b[1;32m    665\u001b[0m                 \u001b[0;31m# Note fill_value must be broadcast up to the proper size\u001b[0m\u001b[0;34m\u001b[0m\u001b[0;34m\u001b[0m\u001b[0;34m\u001b[0m\u001b[0m\n",
      "\u001b[0;32m~/anaconda3/lib/python3.7/site-packages/scipy/interpolate/interpolate.py\u001b[0m in \u001b[0;36m_check_bounds\u001b[0;34m(self, x_new)\u001b[0m\n\u001b[1;32m    693\u001b[0m                              \"range.\")\n\u001b[1;32m    694\u001b[0m         \u001b[0;32mif\u001b[0m \u001b[0mself\u001b[0m\u001b[0;34m.\u001b[0m\u001b[0mbounds_error\u001b[0m \u001b[0;32mand\u001b[0m \u001b[0mabove_bounds\u001b[0m\u001b[0;34m.\u001b[0m\u001b[0many\u001b[0m\u001b[0;34m(\u001b[0m\u001b[0;34m)\u001b[0m\u001b[0;34m:\u001b[0m\u001b[0;34m\u001b[0m\u001b[0;34m\u001b[0m\u001b[0m\n\u001b[0;32m--> 695\u001b[0;31m             raise ValueError(\"A value in x_new is above the interpolation \"\n\u001b[0m\u001b[1;32m    696\u001b[0m                              \"range.\")\n\u001b[1;32m    697\u001b[0m \u001b[0;34m\u001b[0m\u001b[0m\n",
      "\u001b[0;31mValueError\u001b[0m: A value in x_new is above the interpolation range."
     ]
    }
   ],
   "source": [
    "points=out_cnt\n",
    "# n=1000\n",
    "distance = np.cumsum( np.sqrt(np.sum( np.diff(points, axis=0)**2, axis=1 )) )\n",
    "distance = np.insert(distance, 0, 0)/distance[-1]\n",
    "alpha = np.linspace(0, 1, n)\n",
    "interpolated_points = {}\n",
    "method='slinear'\n",
    "interpolator =  interp1d(distance, points, kind=method, axis=0)\n",
    "interpolated_points['method'] = interpolator(alpha)"
   ]
  },
  {
   "cell_type": "code",
   "execution_count": 163,
   "metadata": {},
   "outputs": [
    {
     "name": "stdout",
     "output_type": "stream",
     "text": [
      "(446, 2)\n"
     ]
    }
   ],
   "source": [
    "points=out_cnt\n",
    "print(out_cnt.shape)"
   ]
  },
  {
   "cell_type": "code",
   "execution_count": null,
   "metadata": {},
   "outputs": [],
   "source": []
  },
  {
   "cell_type": "code",
   "execution_count": null,
   "metadata": {},
   "outputs": [],
   "source": []
  }
 ],
 "metadata": {
  "kernelspec": {
   "display_name": "Python 3",
   "language": "python",
   "name": "python3"
  },
  "language_info": {
   "codemirror_mode": {
    "name": "ipython",
    "version": 3
   },
   "file_extension": ".py",
   "mimetype": "text/x-python",
   "name": "python",
   "nbconvert_exporter": "python",
   "pygments_lexer": "ipython3",
   "version": "3.7.4"
  }
 },
 "nbformat": 4,
 "nbformat_minor": 2
}
